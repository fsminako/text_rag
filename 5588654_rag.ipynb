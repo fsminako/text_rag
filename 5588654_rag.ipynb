{
  "nbformat": 4,
  "nbformat_minor": 0,
  "metadata": {
    "colab": {
      "provenance": [],
      "authorship_tag": "ABX9TyOmxr0ghdfZEfVnGDgofhcO",
      "include_colab_link": true
    },
    "kernelspec": {
      "name": "python3",
      "display_name": "Python 3"
    },
    "language_info": {
      "name": "python"
    }
  },
  "cells": [
    {
      "cell_type": "markdown",
      "metadata": {
        "id": "view-in-github",
        "colab_type": "text"
      },
      "source": [
        "<a href=\"https://colab.research.google.com/github/fsminako/text_rag/blob/main/5588654_rag.ipynb\" target=\"_parent\"><img src=\"https://colab.research.google.com/assets/colab-badge.svg\" alt=\"Open In Colab\"/></a>"
      ]
    },
    {
      "cell_type": "markdown",
      "source": [
        "# **RETRIEVAL AUGMENTED GENERATION FOR BOOK RECOMMENDATION**"
      ],
      "metadata": {
        "id": "FTr4-ZwtN1Sd"
      }
    },
    {
      "cell_type": "markdown",
      "source": [
        "## Importing Dataset"
      ],
      "metadata": {
        "id": "NF3CWLQ5OTtw"
      }
    },
    {
      "cell_type": "code",
      "execution_count": 1,
      "metadata": {
        "id": "oj_wdlBMNwiH"
      },
      "outputs": [],
      "source": [
        "import pandas as pd\n",
        "from transformers import pipeline"
      ]
    },
    {
      "cell_type": "code",
      "source": [
        "#Load the first dataset\n",
        "#Define file path\n",
        "csv_file_path = \"goodreads_data.csv\"\n",
        "df_csv = pd.read_csv(csv_file_path)"
      ],
      "metadata": {
        "id": "MPoDQ-oBPO2h"
      },
      "execution_count": 3,
      "outputs": []
    },
    {
      "cell_type": "code",
      "source": [
        "#Preview of dataset\n",
        "print(df_csv.head())"
      ],
      "metadata": {
        "colab": {
          "base_uri": "https://localhost:8080/"
        },
        "id": "xg5ep4g9QEWL",
        "outputId": "0b33deb7-1de5-4775-f4e3-5d83f2e5897b"
      },
      "execution_count": 4,
      "outputs": [
        {
          "output_type": "stream",
          "name": "stdout",
          "text": [
            "   Unnamed: 0                                               Book  \\\n",
            "0           0                              To Kill a Mockingbird   \n",
            "1           1  Harry Potter and the Philosopher’s Stone (Harr...   \n",
            "2           2                                Pride and Prejudice   \n",
            "3           3                          The Diary of a Young Girl   \n",
            "4           4                                        Animal Farm   \n",
            "\n",
            "          Author                                        Description  \\\n",
            "0     Harper Lee  The unforgettable novel of a childhood in a sl...   \n",
            "1   J.K. Rowling  Harry Potter thinks he is an ordinary boy - un...   \n",
            "2    Jane Austen  Since its immediate success in 1813, Pride and...   \n",
            "3     Anne Frank  Discovered in the attic in which she spent the...   \n",
            "4  George Orwell  Librarian's note: There is an Alternate Cover ...   \n",
            "\n",
            "                                              Genres  Avg_Rating Num_Ratings  \\\n",
            "0  ['Classics', 'Fiction', 'Historical Fiction', ...        4.27   5,691,311   \n",
            "1  ['Fantasy', 'Fiction', 'Young Adult', 'Magic',...        4.47   9,278,135   \n",
            "2  ['Classics', 'Fiction', 'Romance', 'Historical...        4.28   3,944,155   \n",
            "3  ['Classics', 'Nonfiction', 'History', 'Biograp...        4.18   3,488,438   \n",
            "4  ['Classics', 'Fiction', 'Dystopia', 'Fantasy',...        3.98   3,575,172   \n",
            "\n",
            "                                                 URL  \n",
            "0  https://www.goodreads.com/book/show/2657.To_Ki...  \n",
            "1  https://www.goodreads.com/book/show/72193.Harr...  \n",
            "2  https://www.goodreads.com/book/show/1885.Pride...  \n",
            "3  https://www.goodreads.com/book/show/48855.The_...  \n",
            "4  https://www.goodreads.com/book/show/170448.Ani...  \n"
          ]
        }
      ]
    },
    {
      "cell_type": "code",
      "source": [
        "#Load the"
      ],
      "metadata": {
        "id": "g7aGTw34QW4p"
      },
      "execution_count": null,
      "outputs": []
    }
  ]
}